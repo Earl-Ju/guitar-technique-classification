{
 "cells": [
  {
   "cell_type": "code",
   "execution_count": null,
   "id": "initial_id",
   "metadata": {
    "collapsed": true
   },
   "outputs": [],
   "source": [
    "# 01_feature_extraction.ipynb\n",
    "\n",
    "import numpy as np\n",
    "import librosa\n",
    "import librosa.display\n",
    "import matplotlib.pyplot as plt\n",
    "\n",
    "# 1. 加载一段音频\n",
    "file_path = \"../data/raw/bending/example.wav\"  # 这里替换成真实路径\n",
    "y, sr = librosa.load(file_path, sr=22050)\n",
    "\n",
    "# 2. 提取常见特征\n",
    "mfccs = librosa.feature.mfcc(y=y, sr=sr, n_mfcc=13)\n",
    "chroma = librosa.feature.chroma_cqt(y=y, sr=sr)\n",
    "spec_centroid = librosa.feature.spectral_centroid(y=y, sr=sr)\n",
    "\n",
    "# 3. 可视化\n",
    "plt.figure(figsize=(12, 8))\n",
    "\n",
    "plt.subplot(3, 1, 1)\n",
    "librosa.display.specshow(mfccs, x_axis='time', sr=sr)\n",
    "plt.title(\"MFCCs\")\n",
    "\n",
    "plt.subplot(3, 1, 2)\n",
    "librosa.display.specshow(chroma, y_axis='chroma', x_axis='time')\n",
    "plt.title(\"Chroma (CQT)\")\n",
    "\n",
    "plt.subplot(3, 1, 3)\n",
    "plt.semilogy(spec_centroid.T, label='Spectral Centroid')\n",
    "plt.ylabel('Hz'); plt.legend()\n",
    "\n",
    "plt.tight_layout()\n",
    "plt.show()\n"
   ]
  }
 ],
 "metadata": {
  "kernelspec": {
   "display_name": "Python 3",
   "language": "python",
   "name": "python3"
  },
  "language_info": {
   "codemirror_mode": {
    "name": "ipython",
    "version": 2
   },
   "file_extension": ".py",
   "mimetype": "text/x-python",
   "name": "python",
   "nbconvert_exporter": "python",
   "pygments_lexer": "ipython2",
   "version": "2.7.6"
  }
 },
 "nbformat": 4,
 "nbformat_minor": 5
}
